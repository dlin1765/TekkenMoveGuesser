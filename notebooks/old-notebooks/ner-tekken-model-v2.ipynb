{
 "cells": [
  {
   "cell_type": "code",
   "execution_count": 3,
   "metadata": {},
   "outputs": [],
   "source": [
    "import pandas as pd\n",
    "import spacy\n",
    "import random \n",
    "import json\n",
    "import os\n",
    "from pathlib import Path\n",
    "from spacy.training import Example\n",
    "from spacy.tokens import DocBin\n",
    "from spacy.tokens import Doc\n",
    "from spacy.language import Language\n",
    "from spacy.tokens import Span\n",
    "from spacy.pipeline import EntityRuler\n",
    "from spacy.matcher import PhraseMatcher\n",
    "\n",
    "\n",
    "os.chdir(r'/home/dlin1765/repos/tekken-move-guesser')\n",
    "with open('annotations.json', 'r') as raw:\n",
    "    data = json.load(raw)\n"
   ]
  },
  {
   "cell_type": "code",
   "execution_count": 4,
   "metadata": {},
   "outputs": [],
   "source": [
    "# create new training data \n",
    "\n"
   ]
  },
  {
   "cell_type": "code",
   "execution_count": 5,
   "metadata": {},
   "outputs": [],
   "source": [
    "# python -m spacy train config.cfg --output ./output --paths.train ./train.spacy --paths.dev ./train.spacy "
   ]
  },
  {
   "cell_type": "code",
   "execution_count": 6,
   "metadata": {},
   "outputs": [
    {
     "name": "stdout",
     "output_type": "stream",
     "text": [
      "[('Low ', {'entities': [(0, 3, 'MOVE_HIT_PROPERTY')]}), ('Mid', {'entities': [(0, 3, 'MOVE_HIT_PROPERTY')]}), ('High', {'entities': [(0, 4, 'MOVE_HIT_PROPERTY')]}), ('Guard crush/unblockable', {'entities': [(0, 23, 'MOVE_HIT_PROPERTY')]}), ('Counterhit', {'entities': [(0, 10, 'MOVE_HIT_PROPERTY')]}), ('Tornado', {'entities': [(0, 7, 'MOVE_HIT_PROPERTY')]}), ('launch', {'entities': [(0, 6, 'MOVE_HIT_PROPERTY')]}), ('Mini combo ', {'entities': [(0, 10, 'MOVE_HIT_PROPERTY')]}), ('Flip over ', {'entities': [(0, 9, 'MOVE_HIT_PROPERTY')]}), ('Heat engager', {'entities': [(0, 12, 'MOVE_TYPE')]}), ('Parry', {'entities': [(0, 5, 'MOVE_TYPE')]}), ('String', {'entities': [(0, 6, 'MOVE_TYPE')]}), ('Power crush', {'entities': [(0, 11, 'MOVE_TYPE')]}), ('Stance ', {'entities': [(0, 6, 'MOVE_TYPE')]}), ('plus ', {'entities': [(0, 4, 'MOVE_BLOCK_PROPERTY')]}), ('minus ', {'entities': [(0, 5, 'MOVE_BLOCK_PROPERTY')]}), ('evasive', {'entities': [(0, 7, 'MOVE_PROPERTY')]}), ('transition', {'entities': [(0, 10, 'MOVE_PROPERTY')]}), ('long', {'entities': [(0, 4, 'RANGE')]}), ('big', {'entities': [(0, 3, 'RANGE')]}), ('short ', {'entities': [(0, 5, 'RANGE')]}), ('poke ', {'entities': [(0, 4, 'RANGE')]}), ('jab ', {'entities': [(0, 3, 'RANGE')]}), ('punch', {'entities': [(0, 5, 'LIMB')]}), ('kick', {'entities': [(0, 4, 'LIMB')]}), ('knee', {'entities': [(0, 4, 'LIMB')]}), ('wake up', {'entities': [(0, 7, 'MOVE_STATE')]}), ('grounded', {'entities': [(0, 8, 'MOVE_STATE')]}), ('jumping', {'entities': [(0, 7, 'MOVE_STATE')]}), ('airborne', {'entities': [(0, 8, 'MOVE_STATE')]}), ('standing', {'entities': [(0, 8, 'MOVE_STATE')]}), ('qcf ', {'entities': []}), ('They really gave the bear the best ewgf shit is so funny', {'entities': [(35, 39, 'MOVE_NAME')]}), ('Hits mid not high And even shitty version is +5', {'entities': [(0, 8, 'MOVE_HIT_PROPERTY'), (13, 17, 'MOVE_HIT_PROPERTY'), (45, 47, 'MOVE_BLOCK_PROPERTY')]}), ('Oh I did not know ewgf wasn’t a mid', {'entities': [(18, 22, 'MOVE_NAME'), (32, 35, 'MOVE_HIT_PROPERTY')]}), ('if its still hard to side step like in t7 kuma might actually be fucking crazy lmfaooo', {'entities': [(21, 30, 'SPECIFIC_INPUT')]}), ('buffed throws and buffed tackle stance are so cool', {'entities': [(7, 13, 'MOVE_TYPE'), (32, 38, 'MOVE_TYPE')]}), ('i forgot that they gave her a fucking combo throw', {'entities': [(38, 43, 'MOVE_HIT_PROPERTY'), (44, 49, 'MOVE_TYPE')]}), ('throws having smaller tech window and ch throws untechable?', {'entities': [(0, 6, 'MOVE_TYPE'), (38, 40, 'MOVE_HIT_PROPERTY'), (41, 47, 'MOVE_TYPE')]}), ('bro ch throws are demonic in this game', {'entities': [(4, 6, 'MOVE_HIT_PROPERTY'), (7, 13, 'MOVE_TYPE')]}), ('than spamming d2 from t7', {'entities': [(14, 16, 'SPECIFIC_INPUT')]}), ('qcf+2, also colloquially known as deathfist', {'entities': [(0, 5, 'SPECIFIC_INPUT'), (34, 43, 'MOVE_NAME')]}), ('deathfist is an astonishingly high damage whiff punish tool that hits mid, and becomes even more powerful in heat.', {'entities': [(0, 9, 'MOVE_NAME'), (30, 41, 'MOVE_HIT_PROPERTY'), (70, 73, 'MOVE_HIT_PROPERTY'), (109, 113, 'MOVE_TYPE')]}), ('he is one of the select few characters with a heat Smash that also hits low, giving paul an even more terrifying mixup while in heat', {'entities': [(46, 56, 'MOVE_TYPE'), (67, 75, 'MOVE_HIT_PROPERTY'), (128, 132, 'MOVE_TYPE')]}), ('exploitable strings outside df+1 and WS1,2', {'entities': [(12, 19, 'MOVE_TYPE'), (28, 32, 'SPECIFIC_INPUT'), (37, 42, 'SPECIFIC_INPUT')]}), ('all heat engagers launch on heat dash', {'entities': [(4, 17, 'MOVE_TYPE'), (18, 24, 'MOVE_HIT_PROPERTY'), (28, 37, 'MOVE_TYPE')]}), ('heat gives him farther wallsplats and relative safety for deathfisting moves as well as the ability to guard break, and low heat smash is only -12 on block', {'entities': [(0, 4, 'MOVE_TYPE'), (23, 33, 'MOVE_HIT_PROPERTY'), (47, 53, 'MOVE_PROPERTY'), (103, 114, 'MOVE_HIT_PROPERTY'), (120, 123, 'MOVE_HIT_PROPERTY'), (124, 134, 'MOVE_TYPE'), (143, 146, 'MOVE_PROPERTY'), (147, 155, 'MOVE_BLOCK_PROPERTY')]}), ('excellent keepout with qcb+4, qcb+2, and df+2', {'entities': [(23, 28, 'SPECIFIC_INPUT'), (30, 35, 'SPECIFIC_INPUT'), (41, 45, 'SPECIFIC_INPUT')]}), ('G=great punishment suite, wall splatting at i12 standing or i13 crouching, can launch from standing at i14 or i13 during heat', {'entities': []}), ('also need to figure out a clean way to do wr moves cuz fff3 is so good', {'entities': [(42, 44, 'SPECIFIC_INPUT'), (55, 59, 'SPECIFIC_INPUT')]}), ('i got hit by the command throw I think 16 times on ranked today', {'entities': [(17, 30, 'MOVE_TYPE')]}), ('it’s an unbreakable throw', {'entities': [(8, 19, 'MOVE_HIT_PROPERTY'), (20, 25, 'MOVE_TYPE')]}), ('reina does a jab string', {'entities': [(13, 16, 'LIMB'), (17, 23, 'MOVE_TYPE')]}), ('the jab string that goes into it is -14 ob and doesnt transition unless its on hit', {'entities': [(4, 7, 'LIMB'), (8, 14, 'MOVE_TYPE'), (36, 39, 'MOVE_PROPERTY'), (40, 42, 'MOVE_BLOCK_PROPERTY'), (54, 64, 'MOVE_PROPERTY')]}), ('bro drag has the same shit, unbreakable grab', {'entities': [(28, 39, 'MOVE_HIT_PROPERTY'), (40, 44, 'MOVE_TYPE')]}), ('why is it a counter hit launcher', {'entities': [(12, 23, 'MOVE_HIT_PROPERTY'), (24, 32, 'MOVE_HIT_PROPERTY')]}), ('its a kick that puts me in crouch ', {'entities': [(6, 10, 'LIMB'), (16, 33, 'MOVE_PROPERTY')]}), ('finally getting consistent with my hellsweep inputs', {'entities': [(35, 44, 'MOVE_PROPERTY')]}), ('I can stop getting my cheeks clapped by victor oki', {'entities': [(47, 50, 'MOVE_PROPERTY')]}), ('ssl duck evades all of the hyp stance options after f2,1 and you can ssr the last hit of f2,1,2', {'entities': [(0, 3, 'SPECIFIC_INPUT'), (9, 15, 'MOVE_PROPERTY'), (27, 37, 'MOVE_TYPE'), (52, 56, 'SPECIFIC_INPUT'), (69, 72, 'SPECIFIC_INPUT'), (89, 95, 'SPECIFIC_INPUT')]}), ('this char goes into heat (her engagers are insane) ', {'entities': [(20, 24, 'MOVE_TYPE'), (30, 38, 'MOVE_TYPE')]}), ('orbital launcher safe on block', {'entities': [(0, 7, 'MOVE_TYPE'), (8, 16, 'MOVE_TYPE'), (17, 21, 'MOVE_PROPERTY'), (25, 30, 'MOVE_BLOCK_PROPERTY')]}), ('stuff that ends in backturn that’s -11 against drag gives him access to 1,3,2 which is normally a gapped string but in backturn you can’t block', {'entities': [(35, 38, 'MOVE_BLOCK_PROPERTY'), (72, 77, 'SPECIFIC_INPUT'), (105, 111, 'MOVE_TYPE'), (119, 127, 'MOVE_TYPE')]}), ('side step move thats plus on block', {'entities': [(0, 9, 'SPECIFIC_INPUT'), (21, 25, 'MOVE_PROPERTY'), (26, 34, 'MOVE_BLOCK_PROPERTY')]}), ('moves that do not crush ', {'entities': [(18, 23, 'MOVE_PROPERTY')]}), ('evasive shoulder that hits mid ', {'entities': [(0, 7, 'MOVE_PROPERTY'), (8, 16, 'LIMB'), (27, 30, 'MOVE_HIT_PROPERTY')]}), ('mid evasive shoulder ', {'entities': [(0, 3, 'MOVE_HIT_PROPERTY'), (4, 11, 'MOVE_PROPERTY'), (12, 20, 'LIMB')]}), ('jab string that ends with a low ', {'entities': [(0, 3, 'LIMB'), (4, 10, 'MOVE_TYPE'), (16, 25, 'STRING_DETAIL'), (28, 31, 'MOVE_HIT_PROPERTY')]}), ('jab string with homing third hit', {'entities': [(0, 3, 'LIMB'), (4, 10, 'MOVE_TYPE'), (16, 22, 'MOVE_PROPERTY'), (23, 32, 'STRING_DETAIL')]}), ('a jab string with homing on the third attack', {'entities': [(2, 5, 'LIMB'), (6, 12, 'MOVE_TYPE'), (18, 24, 'MOVE_PROPERTY'), (32, 44, 'STRING_DETAIL')]}), ('jab combo featuring a tracking third hit', {'entities': []}), ('chip damage (esp in heat again) feels way too overtuned', {'entities': [(0, 4, 'MOVE_PROPERTY'), (20, 24, 'MOVE_PROPERTY')]}), ('This parry along with his other tools forces the opponent to second guess their offense and how they take their plus frames', {'entities': [(5, 10, 'MOVE_TYPE'), (112, 123, 'MOVE_PROPERTY')]}), ('fast counter hit launcher', {'entities': [(0, 4, 'MOVE_PROPERTY'), (5, 16, 'MOVE_HIT_PROPERTY'), (17, 25, 'MOVE_HIT_PROPERTY')]}), ('long kick that counterhit launches ', {'entities': [(0, 4, 'RANGE'), (5, 9, 'LIMB'), (15, 34, 'MOVE_HIT_PROPERTY')]}), ('evasive punch move that does little damage', {'entities': [(0, 7, 'MOVE_PROPERTY'), (8, 13, 'LIMB'), (29, 42, 'MOVE_HIT_PROPERTY')]}), ('short low poke ', {'entities': [(0, 5, 'RANGE'), (6, 9, 'MOVE_HIT_PROPERTY'), (10, 14, 'MOVE_HIT_PROPERTY')]}), ('long range low slide ', {'entities': [(0, 10, 'RANGE'), (11, 14, 'MOVE_HIT_PROPERTY')]}), ('what ur talking about is crouch jabs, in rhat case s.low means special low', {'entities': [(25, 36, 'MOVE_NAME'), (51, 56, 'SPECIFIC_INPUT'), (63, 74, 'SPECIFIC_INPUT')]}), ('she has no weakness point, launcher is safe like f+2', {'entities': [(27, 35, 'MOVE_HIT_PROPERTY'), (39, 43, 'MOVE_PROPERTY'), (49, 52, 'SPECIFIC_INPUT')]}), (\"yoshimitsu's flash dunks on reina's ff+2 on block\", {'entities': [(13, 18, 'MOVE_NAME'), (36, 40, 'SPECIFIC_INPUT'), (41, 49, 'MOVE_BLOCK_PROPERTY')]}), ('the second hit of the powercrush is launch punishable.', {'entities': [(4, 14, 'STRING_DETAIL'), (22, 32, 'MOVE_TYPE'), (36, 53, 'MOVE_BLOCK_PROPERTY')]}), ('safe mid knee that counterhit launches ', {'entities': [(0, 4, 'MOVE_PROPERTY'), (5, 8, 'MOVE_HIT_PROPERTY'), (9, 13, 'LIMB'), (19, 38, 'MOVE_HIT_PROPERTY')]}), ('powered up string that guard breaks', {'entities': [(0, 10, 'MOVE_TYPE'), (11, 17, 'MOVE_TYPE'), (23, 35, 'MOVE_HIT_PROPERTY')]}), (\"reina's twirl grab \", {'entities': [(14, 18, 'MOVE_TYPE')]}), ('her throws out of her twirling stance and the one where she crouches down are both untechable', {'entities': [(4, 10, 'MOVE_TYPE'), (31, 37, 'MOVE_TYPE'), (60, 73, 'MOVE_STATE'), (83, 93, 'MOVE_HIT_PROPERTY')]}), ('evasive shoulder that knocks down', {'entities': [(0, 7, 'MOVE_PROPERTY'), (8, 16, 'LIMB')]}), ('low that launches on hit', {'entities': [(0, 3, 'MOVE_HIT_PROPERTY'), (9, 17, 'MOVE_TYPE'), (18, 24, 'MOVE_HIT_PROPERTY')]}), ('while standing launchers', {'entities': [(0, 14, 'SPECIFIC_INPUT'), (15, 24, 'MOVE_HIT_PROPERTY')]}), ('some characters are built around not having while rising launchers as like a compensatory weakness', {'entities': [(44, 56, 'SPECIFIC_INPUT'), (57, 66, 'MOVE_TYPE')]}), ('couldn’t you ws1 in the same situation for counter hit combo', {'entities': [(13, 16, 'SPECIFIC_INPUT'), (43, 54, 'MOVE_HIT_PROPERTY'), (55, 60, 'MOVE_HIT_PROPERTY')]}), ('her mixups in heat are absurdly safe and chunk you', {'entities': [(14, 18, 'MOVE_TYPE'), (32, 36, 'MOVE_PROPERTY'), (41, 50, 'MOVE_HIT_PROPERTY')]}), ('she has a ton of scary mid launchers and heat engagers', {'entities': [(23, 26, 'MOVE_HIT_PROPERTY'), (27, 36, 'MOVE_HIT_PROPERTY'), (41, 54, 'MOVE_TYPE')]}), ('string of kicks that heat engages', {'entities': [(0, 6, 'MOVE_TYPE'), (10, 15, 'LIMB'), (21, 33, 'MOVE_TYPE')]}), ('having a combo throw is also very good', {'entities': [(9, 14, 'MOVE_HIT_PROPERTY'), (15, 20, 'MOVE_TYPE')]}), ('ngl plus frames are high key over rated in Tekken', {'entities': [(4, 15, 'MOVE_PROPERTY')]}), ('approaching plus on block punch ', {'entities': [(0, 11, 'MOVE_STATE'), (12, 16, 'MOVE_PROPERTY'), (17, 25, 'MOVE_BLOCK_PROPERTY'), (26, 31, 'LIMB')]}), ('but if someone does plus six move, and I stand there', {'entities': [(20, 28, 'MOVE_PROPERTY')]}), ('+6 on a character with unreactable low', {'entities': [(0, 2, 'MOVE_PROPERTY'), (35, 38, 'MOVE_HIT_PROPERTY')]}), ('low that hits ground and flips over', {'entities': [(0, 3, 'MOVE_HIT_PROPERTY'), (9, 20, 'MOVE_HIT_PROPERTY'), (25, 35, 'MOVE_HIT_PROPERTY')]}), ('homing mid that counter hit launches ', {'entities': [(0, 6, 'MOVE_PROPERTY'), (7, 10, 'MOVE_HIT_PROPERTY'), (16, 36, 'MOVE_HIT_PROPERTY')]}), ('homing high that goes into stance ', {'entities': [(0, 6, 'MOVE_PROPERTY'), (7, 11, 'MOVE_HIT_PROPERTY'), (17, 33, 'MOVE_PROPERTY')]}), ('unblockable breath move ', {'entities': [(0, 11, 'MOVE_HIT_PROPERTY')]}), ('spinning kick string ', {'entities': [(9, 13, 'LIMB'), (14, 20, 'MOVE_TYPE')]}), ('multi hit low move ', {'entities': [(0, 9, 'MOVE_TYPE'), (10, 13, 'MOVE_HIT_PROPERTY')]}), ('triple low move ', {'entities': [(0, 6, 'MOVE_HIT_PROPERTY'), (7, 10, 'MOVE_HIT_PROPERTY')]}), ('throw leaves you in knockdown state', {'entities': [(0, 5, 'MOVE_TYPE'), (20, 35, 'MOVE_STATE')]}), ('the untechable grab and the tracking mid ', {'entities': [(4, 14, 'MOVE_HIT_PROPERTY'), (15, 19, 'MOVE_TYPE'), (28, 36, 'MOVE_PROPERTY'), (37, 40, 'MOVE_HIT_PROPERTY')]}), ('i was mashing jab the moment he transitioned ', {'entities': [(14, 17, 'LIMB'), (32, 44, 'MOVE_PROPERTY')]}), ('bro did heat engager into the same string ', {'entities': [(8, 20, 'MOVE_TYPE'), (35, 41, 'MOVE_TYPE')]}), ('she just swings her arms at you and it launches', {'entities': [(20, 24, 'LIMB'), (39, 47, 'MOVE_TYPE')]}), ('new mid CH Launcher B+4', {'entities': [(4, 7, 'MOVE_HIT_PROPERTY'), (8, 10, 'MOVE_HIT_PROPERTY'), (11, 19, 'MOVE_HIT_PROPERTY'), (20, 23, 'SPECIFIC_INPUT')]}), ('13f demon paw', {'entities': [(0, 3, 'MOVE_PROPERTY'), (4, 13, 'MOVE_NAME')]}), ('f+3 normal hit launcher with heat', {'entities': [(0, 3, 'SPECIFIC_INPUT'), (4, 23, 'MOVE_HIT_PROPERTY'), (29, 33, 'MOVE_HIT_PROPERTY')]}), ('quick guardbreak 112 wallsplat', {'entities': [(0, 5, 'MOVE_PROPERTY'), (6, 16, 'MOVE_HIT_PROPERTY'), (17, 20, 'SPECIFIC_INPUT'), (21, 30, 'MOVE_HIT_PROPERTY')]}), ('15f ws launcher', {'entities': [(0, 3, 'MOVE_PROPERTY'), (4, 6, 'SPECIFIC_INPUT'), (7, 15, 'MOVE_HIT_PROPERTY')]}), ('fc ', {'entities': [(0, 2, 'SPECIFIC_INPUT')]}), ('full crouch ', {'entities': [(0, 11, 'SPECIFIC_INPUT')]}), ('crouch dash', {'entities': [(0, 11, 'SPECIFIC_INPUT')]}), ('cd', {'entities': [(0, 2, 'SPECIFIC_INPUT')]}), ('Heihachi gets a full launcher on f4 ', {'entities': [(16, 29, 'MOVE_HIT_PROPERTY'), (33, 35, 'SPECIFIC_INPUT')]}), ('u can throw punish certain armor moves and get more dmg than like ur -12 punish', {'entities': [(27, 38, 'MOVE_TYPE'), (69, 72, 'MOVE_PROPERTY')]}), ('you make my heat burst', {'entities': [(12, 22, 'MOVE_TYPE')]}), ('there were so many power crushes this set', {'entities': [(19, 32, 'MOVE_TYPE')]}), ('armored stance ', {'entities': [(0, 7, 'MOVE_TYPE'), (8, 14, 'MOVE_TYPE')]}), ('super armor ', {'entities': [(0, 11, 'MOVE_TYPE')]}), ('the low extension is +3 ', {'entities': [(4, 7, 'MOVE_HIT_PROPERTY'), (8, 17, 'MOVE_TYPE'), (21, 23, 'MOVE_PROPERTY')]}), ('the mid extension is unsafe on block though ', {'entities': [(4, 7, 'MOVE_HIT_PROPERTY'), (8, 17, 'MOVE_TYPE'), (21, 27, 'MOVE_PROPERTY'), (28, 36, 'MOVE_BLOCK_PROPERTY')]}), ('you can duck the high extension and you can side step the mid extension', {'entities': [(17, 21, 'MOVE_HIT_PROPERTY'), (22, 31, 'MOVE_TYPE'), (44, 53, 'SPECIFIC_INPUT'), (58, 61, 'MOVE_HIT_PROPERTY'), (62, 71, 'MOVE_TYPE')]}), ('my df1 evaded by matterhorn when I was +5', {'entities': [(3, 6, 'SPECIFIC_INPUT'), (7, 13, 'MOVE_PROPERTY'), (17, 27, 'MOVE_NAME'), (39, 41, 'MOVE_PROPERTY')]}), ('taunt ', {'entities': [(0, 5, 'SPECIFIC_INPUT')]}), ('high damage punch heat engager', {'entities': [(0, 11, 'MOVE_HIT_PROPERTY'), (12, 17, 'LIMB'), (18, 30, 'MOVE_TYPE')]}), ('yeah it forces crouch and is +3', {'entities': [(8, 21, 'MOVE_PROPERTY'), (29, 31, 'MOVE_PROPERTY')]}), ('ik her important buttons are her jabs, b1, df1', {'entities': [(33, 37, 'LIMB'), (39, 41, 'SPECIFIC_INPUT'), (43, 46, 'SPECIFIC_INPUT')]}), ('df1, df3, df4 are all extremely good neutral buttons, all mids too', {'entities': [(0, 3, 'SPECIFIC_INPUT'), (5, 8, 'SPECIFIC_INPUT'), (10, 13, 'SPECIFIC_INPUT'), (58, 62, 'MOVE_HIT_PROPERTY')]}), ('nah this shit would’ve hit my fc df4, i got hit the other day', {'entities': [(30, 36, 'SPECIFIC_INPUT')]}), ('+4 mid and died every time', {'entities': [(0, 2, 'MOVE_PROPERTY'), (3, 6, 'MOVE_HIT_PROPERTY')]}), ('give me my tracking on ff2', {'entities': [(11, 19, 'MOVE_PROPERTY'), (23, 26, 'SPECIFIC_INPUT')]}), ('safe, extremely high-evading mid, Close-range whiff punish. ', {'entities': [(0, 4, 'MOVE_PROPERTY'), (16, 28, 'MOVE_PROPERTY'), (29, 32, 'MOVE_HIT_PROPERTY'), (34, 45, 'RANGE')]}), ('has some high evasion on startup, but punishable at -14', {'entities': [(9, 21, 'MOVE_PROPERTY'), (52, 55, 'MOVE_PROPERTY')]})]\n"
     ]
    }
   ],
   "source": [
    "from types import NoneType\n",
    "\n",
    "\n",
    "entity_names = ['MOVE_TYPE', 'MOVE_HIT_PROPERTY', 'MOVE_BLOCK_PROPERTY', 'MOVE_PROPERTY', 'RANGE', 'LIMB', 'MOVE_STATE', 'SPECIFIC_INPUT', 'MOVE_NAME', 'STRING_DETAIL']\n",
    "train_data = data['annotations']\n",
    "#train_data = [tuple(i) for i in train_data]\n",
    "new_list = []\n",
    "\n",
    "# remove all NoneType data that may have been introduced\n",
    "for x in train_data[:]:\n",
    "    if isinstance(x, NoneType):\n",
    "        train_data.remove(x)\n",
    "\n",
    "# format the data into the required format\n",
    "for i in range(0, len(train_data)):\n",
    "    new_list = []\n",
    "    tupled_data = tuple(train_data[i])\n",
    "    for lists in train_data[i][1].get('entities'):\n",
    "        new_list.append(tuple(lists))\n",
    "    new_dict = {\n",
    "        'entities': new_list\n",
    "    }\n",
    "    tupled_data = (train_data[i][0], new_dict)\n",
    "    train_data[i] = tupled_data\n",
    "\n",
    "print(train_data)\n",
    "    "
   ]
  },
  {
   "cell_type": "code",
   "execution_count": 7,
   "metadata": {},
   "outputs": [],
   "source": [
    "nlp = spacy.load(\"en_core_web_sm\") # load other spacy model\n",
    "db = DocBin() \n",
    "\n",
    "#format data into spacy format\n",
    "for text, annot in train_data: \n",
    "    doc = nlp.make_doc(text) \n",
    "    ents = []\n",
    "    for start, end, label in annot[\"entities\"]: \n",
    "        span = doc.char_span(start, end, label=label, alignment_mode=\"contract\")\n",
    "        if span is None:\n",
    "            print(\"Skipping entity\")\n",
    "        else:\n",
    "            ents.append(span)\n",
    "    doc.ents = ents \n",
    "    db.add(doc) \n",
    "\n",
    "os.chdir(r'/home/dlin1765/repos/tekken-move-guesser')\n",
    "db.to_disk(\"./train.spacy\") "
   ]
  },
  {
   "cell_type": "code",
   "execution_count": 8,
   "metadata": {},
   "outputs": [],
   "source": [
    "# add entity ruler pipeline to the nlp\n",
    "# ruler = EntityRuler(nlp, overwrite_ents=True)\n",
    "# ruler = nlp.add_pipe(\"entity_ruler\")\n",
    "import re\n",
    "# config = {\n",
    "#    \"phrase_matcher_attr\": None,\n",
    "#    \"validate\": True,\n",
    "#    \"overwrite_ents\": True,\n",
    "#    \"ent_id_sep\": \"||\",\n",
    "# }\n",
    "# nlpTest = spacy.load(\"en_core_web_sm\")\n",
    "\n",
    "#ruler = nlpTest.add_pipe(\"entity_ruler\", config=config)\n",
    "\n",
    "# ^(?:(?:[udbnf]{0,10}|([udbnf]*[\\s,.+]*){0,10}|(sway)?|(dpd)?)?[\\s,]*[1-4](?:\\s*[,+-]\\s*[1-4])*)+$|^((?:[1-4](?:\\s*[,+-]\\s*[1-4])*)+)$\n",
    "\n",
    "\n",
    "\n",
    "# specificMoveNames = ['lethal sky rocket', 'jfsr', 'skyrocket', 'sky rocket', '10 hit', '10hit', 'ten hit']\n",
    "# directionInputs = ['n', 'NOINPUT', 'neutral', 'f', 'forward', 'df', 'down forward', 'downforward', 'down-forward', 'd', 'down', 'db', 'downback', 'down back', 'down-back', 'b', 'back', 'ub', 'upback', 'up back', 'up-back', 'u', 'up', 'uf', 'up forward', 'upforward', 'up-forward', 'ss', 'sidestep', 'side step', 'qcf' 'quarter circle forward', 'quartercircleforward', 'quarter-circle-forward', 'qcb', 'quarter circle back', 'quarter-circle-back', 'quartercircleback', 'ff', 'forwardforward', 'f,f', 'f, f', 'fff', 'f,f,f', 'f, f, f', 'while running', 'wr','triple forward', 'forwardforwardforward', 'bf', 'back forward', 'backforward', 'bnf', 'b,n,f', 'b, n, f', 'back neutral forward', 'backneutralforward', 'back,neutral,forward', 'ws', 'while standing', 'while rising', 'w.s', 'w,s', 'w s', 'whilestanding', 'whilerising', 'fc', 'full crouch', 'fullcrouch', 'cd', 'crouch dash', 'crouchdash', 'bt', 'backturn', 'back turn', 'back-turn']\n",
    "# delimiters = ['',' ', '+', ' + ', ' +', '+ ', '.', ' . ', ' .', '. ', ',', ' , ', ', ', ' ,', '-', ' - ', '- ', ' -',]\n",
    "# allPossibleInputs = ['1', '2', '3', '4']\n",
    "\n",
    "# patterns1 = [\n",
    "#             {\"TEXT\": {\"REGEX\": \"(?:(?:[udbnf]{0,10}|([udbnf]+[\\s,.+]*){0,10}|(sway)?|(dpd)?)?[\\s,]*[1-4](?:\\s*[,+-]\\s*[1-4])*)+|^((?:[1-4](?:\\s*[,+-]\\s*[1-4])*)+)\"}}\n",
    "#             ]\n",
    "\n",
    "# patterns = [{\"label\": \"SPECIFIC_MOVE\", \"pattern\": [\n",
    "#             {\"TEXT\": {\"REGEX\": \"(?:(?:[udbnf]{0,10}|([udbnf]+[\\s,.+]*){0,10}|(sway)?|(dpd)?)?[\\s,]*[1-4](?:\\s*[,+-]\\s*[1-4])*)+|((?:[1-4](?:\\s*[,+-]\\s*[1-4])*)+)\"}}\n",
    "#             ]}]\n",
    "\n",
    "\n",
    "\n",
    "\n",
    "#ruler.add_patterns([{\"TEXT\": {\"REGEX\": \"(?:(?:[udbnf]{0,10}|([udbnf]+[\\s,.+]*){0,10}|(sway)?|(dpd)?)?[\\s,]*[1-4](?:\\s*[,+-]\\s*[1-4])*)+|^((?:[1-4](?:\\s*[,+-]\\s*[1-4])*)+)\"}}])\n",
    "#ruler.add_patterns(patterns)\n",
    "#testDoc = nlpTest(\"this is a sentence about drag b 3,2, or written as b3,2\")\n",
    "\n",
    "@Language.component(\"specificMoves\")\n",
    "def specificMoves(doc):\n",
    "    new_ents = []\n",
    "    expression = \"(?:(?:[udbnf]{0,10}|([udbnf]+[\\s,.+]*){0,10}|(sway)?|(dpd)?)?[\\s,]*[1-4](?:\\s*[,+-]\\s*[1-4])*)+|((?:[1-4](?:\\s*[,+-]\\s*[1-4])*)+)\"\n",
    "    for match in re.finditer(expression, doc.text):\n",
    "        start, end = match.span()\n",
    "        span = doc.char_span(start, end, label = \"SPECIFIC_MOVE\")\n",
    "        if span is not None:\n",
    "            new_ents.append(span)\n",
    "\n",
    "    doc.ents = list(doc.ents) + new_ents\n",
    "    return doc\n",
    "\n"
   ]
  },
  {
   "cell_type": "code",
   "execution_count": 9,
   "metadata": {},
   "outputs": [
    {
     "data": {
      "text/html": [
       "<span class=\"tex2jax_ignore\"><div class=\"entities\" style=\"line-height: 2.5; direction: ltr\">claudio \n",
       "<mark class=\"entity\" style=\"background: #ddd; padding: 0.45em 0.6em; margin: 0 0.25em; line-height: 1; border-radius: 0.35em;\">\n",
       "    b2,3,4\n",
       "    <span style=\"font-size: 0.8em; font-weight: bold; line-height: 1; border-radius: 0.35em; vertical-align: middle; margin-left: 0.5rem\">SPECIFIC_MOVE</span>\n",
       "</mark>\n",
       "</div></span>"
      ],
      "text/plain": [
       "<IPython.core.display.HTML object>"
      ]
     },
     "metadata": {},
     "output_type": "display_data"
    },
    {
     "data": {
      "text/html": [
       "<span class=\"tex2jax_ignore\"><div class=\"entities\" style=\"line-height: 2.5; direction: ltr\">claudio \n",
       "<mark class=\"entity\" style=\"background: #ddd; padding: 0.45em 0.6em; margin: 0 0.25em; line-height: 1; border-radius: 0.35em;\">\n",
       "    df2,3,4\n",
       "    <span style=\"font-size: 0.8em; font-weight: bold; line-height: 1; border-radius: 0.35em; vertical-align: middle; margin-left: 0.5rem\">SPECIFIC_MOVE</span>\n",
       "</mark>\n",
       "</div></span>"
      ],
      "text/plain": [
       "<IPython.core.display.HTML object>"
      ]
     },
     "metadata": {},
     "output_type": "display_data"
    },
    {
     "data": {
      "text/html": [
       "<span class=\"tex2jax_ignore\"><div class=\"entities\" style=\"line-height: 2.5; direction: ltr\">claudio \n",
       "<mark class=\"entity\" style=\"background: #ddd; padding: 0.45em 0.6em; margin: 0 0.25em; line-height: 1; border-radius: 0.35em;\">\n",
       "    df 2+3\n",
       "    <span style=\"font-size: 0.8em; font-weight: bold; line-height: 1; border-radius: 0.35em; vertical-align: middle; margin-left: 0.5rem\">SPECIFIC_MOVE</span>\n",
       "</mark>\n",
       " with outer stuff too</div></span>"
      ],
      "text/plain": [
       "<IPython.core.display.HTML object>"
      ]
     },
     "metadata": {},
     "output_type": "display_data"
    },
    {
     "ename": "AttributeError",
     "evalue": "'spacy.tokens.token.Token' object has no attribute 'start'",
     "output_type": "error",
     "traceback": [
      "\u001b[0;31m---------------------------------------------------------------------------\u001b[0m",
      "\u001b[0;31mAttributeError\u001b[0m                            Traceback (most recent call last)",
      "Cell \u001b[0;32mIn[9], line 24\u001b[0m\n\u001b[1;32m     21\u001b[0m doc6 \u001b[38;5;241m=\u001b[39m nlp1(\u001b[38;5;124m\"\u001b[39m\u001b[38;5;124msafe on block mid from stance\u001b[39m\u001b[38;5;124m\"\u001b[39m)\n\u001b[1;32m     23\u001b[0m \u001b[38;5;28;01mfor\u001b[39;00m x \u001b[38;5;129;01min\u001b[39;00m doc6:\n\u001b[0;32m---> 24\u001b[0m     \u001b[38;5;28mprint\u001b[39m(\u001b[43mx\u001b[49m\u001b[38;5;241;43m.\u001b[39;49m\u001b[43mstart\u001b[49m)\n\u001b[1;32m     26\u001b[0m spacy\u001b[38;5;241m.\u001b[39mdisplacy\u001b[38;5;241m.\u001b[39mrender(doc, style\u001b[38;5;241m=\u001b[39m\u001b[38;5;124m\"\u001b[39m\u001b[38;5;124ment\u001b[39m\u001b[38;5;124m\"\u001b[39m, jupyter\u001b[38;5;241m=\u001b[39m\u001b[38;5;28;01mTrue\u001b[39;00m) \n\u001b[1;32m     27\u001b[0m spacy\u001b[38;5;241m.\u001b[39mdisplacy\u001b[38;5;241m.\u001b[39mrender(doc1, style\u001b[38;5;241m=\u001b[39m\u001b[38;5;124m\"\u001b[39m\u001b[38;5;124ment\u001b[39m\u001b[38;5;124m\"\u001b[39m, jupyter\u001b[38;5;241m=\u001b[39m\u001b[38;5;28;01mTrue\u001b[39;00m) \n",
      "\u001b[0;31mAttributeError\u001b[0m: 'spacy.tokens.token.Token' object has no attribute 'start'"
     ]
    }
   ],
   "source": [
    "import spacy.displacy\n",
    "#adding a tagger and a parser to  \n",
    "\n",
    "#nlp1 = spacy.load(r\"/home/dlin1765/repos/tekken-move-guesser/output/model-best\") \n",
    "\n",
    "\n",
    "nlp1 = spacy.load(r\"/home/dlin1765/repos/tekken-move-guesser/output/model-last\") \n",
    "# new model correctly finds all instances of specific moves\n",
    "doc8 = nlp1(\"claudio b2,3,4\")\n",
    "doc9 = nlp1(\"claudio df2,3,4\")\n",
    "doc10 = nlp1(\"claudio df 2+3 with outer stuff too\")\n",
    "\n",
    "spacy.displacy.render(doc8, style=\"ent\", jupyter=True)\n",
    "spacy.displacy.render(doc9, style=\"ent\", jupyter=True)\n",
    "spacy.displacy.render(doc10, style=\"ent\", jupyter=True)\n",
    "\n",
    "# kind of messes up certain properties, like \"three hit string\" if it was 3 hit string it thinks its talking about the 3 MOVE\n",
    "doc = nlp1(\"punch string that is safe on block\")\n",
    "doc1 = nlp1(\"high damage mid punch heat engager\")\n",
    "doc2 = nlp1(\"three hit string that starts with a low\")\n",
    "doc6 = nlp1(\"safe on block mid from stance\")\n",
    "\n",
    "for x in doc6:\n",
    "    print(x.start)\n",
    "\n",
    "spacy.displacy.render(doc, style=\"ent\", jupyter=True) \n",
    "spacy.displacy.render(doc1, style=\"ent\", jupyter=True) \n",
    "spacy.displacy.render(doc2, style=\"ent\", jupyter=True) \n",
    "spacy.displacy.render(doc6, style=\"ent\", jupyter=True)"
   ]
  },
  {
   "cell_type": "code",
   "execution_count": 8,
   "metadata": {},
   "outputs": [],
   "source": [
    "# results \n",
    "# much better results than a few places (just the specific moves part)\n",
    "# worse at general stuff\n",
    "\n"
   ]
  },
  {
   "cell_type": "code",
   "execution_count": 9,
   "metadata": {},
   "outputs": [
    {
     "name": "stdout",
     "output_type": "stream",
     "text": [
      "identifies the stance\n"
     ]
    },
    {
     "data": {
      "text/html": [
       "<span class=\"tex2jax_ignore\"><div class=\"entities\" style=\"line-height: 2.5; direction: ltr\">\n",
       "<mark class=\"entity\" style=\"background: #ddd; padding: 0.45em 0.6em; margin: 0 0.25em; line-height: 1; border-radius: 0.35em;\">\n",
       "    mid\n",
       "    <span style=\"font-size: 0.8em; font-weight: bold; line-height: 1; border-radius: 0.35em; vertical-align: middle; margin-left: 0.5rem\">MOVE_HIT_PROPERTY</span>\n",
       "</mark>\n",
       " \n",
       "<mark class=\"entity\" style=\"background: #ddd; padding: 0.45em 0.6em; margin: 0 0.25em; line-height: 1; border-radius: 0.35em;\">\n",
       "    poke\n",
       "    <span style=\"font-size: 0.8em; font-weight: bold; line-height: 1; border-radius: 0.35em; vertical-align: middle; margin-left: 0.5rem\">MOVE_HIT_PROPERTY</span>\n",
       "</mark>\n",
       " into \n",
       "<mark class=\"entity\" style=\"background: #ddd; padding: 0.45em 0.6em; margin: 0 0.25em; line-height: 1; border-radius: 0.35em;\">\n",
       "    high\n",
       "    <span style=\"font-size: 0.8em; font-weight: bold; line-height: 1; border-radius: 0.35em; vertical-align: middle; margin-left: 0.5rem\">MOVE_HIT_PROPERTY</span>\n",
       "</mark>\n",
       " that \n",
       "<mark class=\"entity\" style=\"background: #ddd; padding: 0.45em 0.6em; margin: 0 0.25em; line-height: 1; border-radius: 0.35em;\">\n",
       "    transition\n",
       "    <span style=\"font-size: 0.8em; font-weight: bold; line-height: 1; border-radius: 0.35em; vertical-align: middle; margin-left: 0.5rem\">MOVE_PROPERTY</span>\n",
       "</mark>\n",
       " into a \n",
       "<mark class=\"entity\" style=\"background: #ddd; padding: 0.45em 0.6em; margin: 0 0.25em; line-height: 1; border-radius: 0.35em;\">\n",
       "    stance\n",
       "    <span style=\"font-size: 0.8em; font-weight: bold; line-height: 1; border-radius: 0.35em; vertical-align: middle; margin-left: 0.5rem\">MOVE_TYPE</span>\n",
       "</mark>\n",
       "</div></span>"
      ],
      "text/plain": [
       "<IPython.core.display.HTML object>"
      ]
     },
     "metadata": {},
     "output_type": "display_data"
    },
    {
     "data": {
      "text/html": [
       "<span class=\"tex2jax_ignore\"><div class=\"entities\" style=\"line-height: 2.5; direction: ltr\">\n",
       "<mark class=\"entity\" style=\"background: #ddd; padding: 0.45em 0.6em; margin: 0 0.25em; line-height: 1; border-radius: 0.35em;\">\n",
       "    jumping\n",
       "    <span style=\"font-size: 0.8em; font-weight: bold; line-height: 1; border-radius: 0.35em; vertical-align: middle; margin-left: 0.5rem\">MOVE_STATE</span>\n",
       "</mark>\n",
       " \n",
       "<mark class=\"entity\" style=\"background: #ddd; padding: 0.45em 0.6em; margin: 0 0.25em; line-height: 1; border-radius: 0.35em;\">\n",
       "    ch\n",
       "    <span style=\"font-size: 0.8em; font-weight: bold; line-height: 1; border-radius: 0.35em; vertical-align: middle; margin-left: 0.5rem\">MOVE_HIT_PROPERTY</span>\n",
       "</mark>\n",
       " \n",
       "<mark class=\"entity\" style=\"background: #ddd; padding: 0.45em 0.6em; margin: 0 0.25em; line-height: 1; border-radius: 0.35em;\">\n",
       "    launch\n",
       "    <span style=\"font-size: 0.8em; font-weight: bold; line-height: 1; border-radius: 0.35em; vertical-align: middle; margin-left: 0.5rem\">MOVE_HIT_PROPERTY</span>\n",
       "</mark>\n",
       " \n",
       "<mark class=\"entity\" style=\"background: #ddd; padding: 0.45em 0.6em; margin: 0 0.25em; line-height: 1; border-radius: 0.35em;\">\n",
       "    low\n",
       "    <span style=\"font-size: 0.8em; font-weight: bold; line-height: 1; border-radius: 0.35em; vertical-align: middle; margin-left: 0.5rem\">MOVE_HIT_PROPERTY</span>\n",
       "</mark>\n",
       " that \n",
       "<mark class=\"entity\" style=\"background: #ddd; padding: 0.45em 0.6em; margin: 0 0.25em; line-height: 1; border-radius: 0.35em;\">\n",
       "    goes into stance\n",
       "    <span style=\"font-size: 0.8em; font-weight: bold; line-height: 1; border-radius: 0.35em; vertical-align: middle; margin-left: 0.5rem\">MOVE_PROPERTY</span>\n",
       "</mark>\n",
       "</div></span>"
      ],
      "text/plain": [
       "<IPython.core.display.HTML object>"
      ]
     },
     "metadata": {},
     "output_type": "display_data"
    },
    {
     "data": {
      "text/html": [
       "<span class=\"tex2jax_ignore\"><div class=\"entities\" style=\"line-height: 2.5; direction: ltr\">\n",
       "<mark class=\"entity\" style=\"background: #ddd; padding: 0.45em 0.6em; margin: 0 0.25em; line-height: 1; border-radius: 0.35em;\">\n",
       "    stance\n",
       "    <span style=\"font-size: 0.8em; font-weight: bold; line-height: 1; border-radius: 0.35em; vertical-align: middle; margin-left: 0.5rem\">MOVE_TYPE</span>\n",
       "</mark>\n",
       " high \n",
       "<mark class=\"entity\" style=\"background: #ddd; padding: 0.45em 0.6em; margin: 0 0.25em; line-height: 1; border-radius: 0.35em;\">\n",
       "    homing\n",
       "    <span style=\"font-size: 0.8em; font-weight: bold; line-height: 1; border-radius: 0.35em; vertical-align: middle; margin-left: 0.5rem\">MOVE_PROPERTY</span>\n",
       "</mark>\n",
       " move</div></span>"
      ],
      "text/plain": [
       "<IPython.core.display.HTML object>"
      ]
     },
     "metadata": {},
     "output_type": "display_data"
    },
    {
     "name": "stdout",
     "output_type": "stream",
     "text": [
      "does not identify the stance\n"
     ]
    },
    {
     "data": {
      "text/html": [
       "<span class=\"tex2jax_ignore\"><div class=\"entities\" style=\"line-height: 2.5; direction: ltr\">\n",
       "<mark class=\"entity\" style=\"background: #ddd; padding: 0.45em 0.6em; margin: 0 0.25em; line-height: 1; border-radius: 0.35em;\">\n",
       "    high homing move\n",
       "    <span style=\"font-size: 0.8em; font-weight: bold; line-height: 1; border-radius: 0.35em; vertical-align: middle; margin-left: 0.5rem\">MOVE_HIT_PROPERTY</span>\n",
       "</mark>\n",
       " from stance</div></span>"
      ],
      "text/plain": [
       "<IPython.core.display.HTML object>"
      ]
     },
     "metadata": {},
     "output_type": "display_data"
    }
   ],
   "source": [
    "# does identify the stance \n",
    "doc3 = nlp1(\"mid poke into high that transition into a stance\")\n",
    "doc5 = nlp1(\"stance high homing move\")\n",
    "doc7 = nlp1(\"jumping ch launch low that goes into stance\")\n",
    "# doesnt identify the stance\n",
    "doc4 = nlp1(\"high homing move from stance\")\n",
    "\n",
    "print(\"identifies the stance\")\n",
    "spacy.displacy.render(doc3, style=\"ent\", jupyter=True)\n",
    "spacy.displacy.render(doc7, style=\"ent\", jupyter=True)\n",
    "spacy.displacy.render(doc5, style=\"ent\", jupyter=True)\n",
    "print(\"does not identify the stance\")\n",
    "spacy.displacy.render(doc4, style=\"ent\", jupyter=True)"
   ]
  },
  {
   "cell_type": "code",
   "execution_count": 45,
   "metadata": {},
   "outputs": [
    {
     "name": "stdout",
     "output_type": "stream",
     "text": [
      "[]\n",
      "[high crushes, heat smash]\n"
     ]
    }
   ],
   "source": [
    "tekkenMovesProperties = { 'parry', 'grab', 'armor', 'armored', 'throw', 'homing', 'tornado', 'tornados', 'evasion', 'evading', 'crouch', 'unblockable', 'untechable', 'launcher'}\n",
    "\n",
    "tekkenOverlaps = {'high', 'low', 'mid', 'heat', 'power', 'guard', 'knock', 'hits', 'is', 'chain', 'stance', 'wall', 'full', 'while'}\n",
    "overlapsHighLow = {'crush', 'crushing', 'crushes', 'damage'}\n",
    "\n",
    "def getTekkenProperties2(doc):\n",
    "    nlp = spacy.load(\"en_core_web_sm\")\n",
    "    matcher_attr = \"TEXT\" \n",
    "    new_ents = []\n",
    "    matcher = PhraseMatcher(nlp.vocab, attr = matcher_attr)\n",
    "    props = ['high crushes', 'high crushing', 'high crush','low crush', 'low crushing', 'low crushes', 'guard break', 'grounded', 'flip over', 'in crouch',  'chargable', 'holdable', 'blue spark', 'blue sparks', 'knocks down']\n",
    "    moves = ['heat burst', 'heat smash', 'chain throw', 'chain grab', 'power crush','homing', 'armor', 'armored', 'parry', 'sabaki', 'instant screw', 'instant tornado', 'rage art']\n",
    "    patterns = [nlp.make_doc(text) for text in props]\n",
    "    movePatterns = [nlp.make_doc(text) for text in moves]\n",
    "    matcher.add(\"PROPERTIES\", patterns)\n",
    "    matcher.add(\"MOVE_TYPES\", movePatterns)\n",
    "    matches = matcher(doc)\n",
    "    for match_id, start, end in matches:\n",
    "        span = doc[start:end]\n",
    "        # property\n",
    "        if match_id == 17494066980514271985:\n",
    "            span = doc.char_span(span.start_char, span.end_char, label = \"MOVE_PROPERTY\")\n",
    "        # move type\n",
    "        elif match_id == 9842506821441691883:\n",
    "            span = doc.char_span(span.start_char, span.end_char, label = \"MOVE_TYPE\")\n",
    "        if span is not None:\n",
    "            new_ents.append(span)\n",
    "\n",
    "    doc.ents = list(doc.ents) + new_ents\n",
    "\n",
    "testDoc = nlp1(\"low, high, mid string that high crushes on the first hit, knocks down on hit, heat smash\")\n",
    "#getTekkenProperties(testDoc)\n",
    "#print(list(newTestDoc.ents))\n",
    "#getTekkenProperties2(newTestDoc)\n",
    "#print(list(newTestDoc.ents))\n",
    "#print(list(testDoc.ents))\n",
    "\n"
   ]
  }
 ],
 "metadata": {
  "kernelspec": {
   "display_name": "Python 3",
   "language": "python",
   "name": "python3"
  },
  "language_info": {
   "codemirror_mode": {
    "name": "ipython",
    "version": 3
   },
   "file_extension": ".py",
   "mimetype": "text/x-python",
   "name": "python",
   "nbconvert_exporter": "python",
   "pygments_lexer": "ipython3",
   "version": "3.10.12"
  }
 },
 "nbformat": 4,
 "nbformat_minor": 2
}
